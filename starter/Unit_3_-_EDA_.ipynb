{
 "cells": [
  {
   "cell_type": "markdown",
   "id": "baa2d43d",
   "metadata": {},
   "source": [
    "# Unit 3 Project - Exploratory Data Analysis"
   ]
  },
  {
   "cell_type": "markdown",
   "id": "9a087192",
   "metadata": {},
   "source": [
    "## Part 1 - Univariate Analysis - Visualization"
   ]
  },
  {
   "cell_type": "markdown",
   "id": "cd658876",
   "metadata": {},
   "source": [
    "### Step 1 - Open Jupyter Notebook in New Virtual Environment"
   ]
  },
  {
   "cell_type": "markdown",
   "id": "40926806",
   "metadata": {},
   "source": [
    "###### This step should have been completed prior to opening the Jupyter Notebook. If it was not, create and activate your virtual environment, then restart your notebook within the venv. "
   ]
  },
  {
   "cell_type": "markdown",
   "id": "0f4e500c",
   "metadata": {},
   "source": [
    "### Step 2 - Load DataFrame and Explore Dataset"
   ]
  },
  {
   "cell_type": "code",
   "execution_count": 1,
   "id": "383bdc9e",
   "metadata": {},
   "outputs": [],
   "source": [
    "################################### TO DO #########################################\n",
    "####### FOLLOW PROJECT INSTRUCTIONS TO COMPLETE THIS STEP IN THE CELLS BELOW ######"
   ]
  },
  {
   "cell_type": "code",
   "execution_count": 2,
   "id": "b19e33b1",
   "metadata": {},
   "outputs": [],
   "source": [
    "# import pandas and numpy"
   ]
  },
  {
   "cell_type": "code",
   "execution_count": 3,
   "id": "0586792e",
   "metadata": {},
   "outputs": [],
   "source": [
    "import pandas as pd"
   ]
  },
  {
   "cell_type": "code",
   "execution_count": 4,
   "id": "2355263f",
   "metadata": {},
   "outputs": [],
   "source": [
    "import numpy as np"
   ]
  },
  {
   "cell_type": "code",
   "execution_count": 5,
   "id": "9d6ad281",
   "metadata": {},
   "outputs": [],
   "source": [
    "# load salary.csv into dataframe"
   ]
  },
  {
   "cell_type": "code",
   "execution_count": 6,
   "id": "df6ddcde",
   "metadata": {},
   "outputs": [],
   "source": [
    "salary_df = pd.read_csv('salary.csv')"
   ]
  },
  {
   "cell_type": "code",
   "execution_count": 7,
   "id": "a48c191a",
   "metadata": {},
   "outputs": [],
   "source": [
    "# look at first few values of dataframe"
   ]
  },
  {
   "cell_type": "code",
   "execution_count": 8,
   "id": "c95347f3",
   "metadata": {},
   "outputs": [
    {
     "data": {
      "text/html": [
       "<div>\n",
       "<style scoped>\n",
       "    .dataframe tbody tr th:only-of-type {\n",
       "        vertical-align: middle;\n",
       "    }\n",
       "\n",
       "    .dataframe tbody tr th {\n",
       "        vertical-align: top;\n",
       "    }\n",
       "\n",
       "    .dataframe thead th {\n",
       "        text-align: right;\n",
       "    }\n",
       "</style>\n",
       "<table border=\"1\" class=\"dataframe\">\n",
       "  <thead>\n",
       "    <tr style=\"text-align: right;\">\n",
       "      <th></th>\n",
       "      <th>age</th>\n",
       "      <th>gender</th>\n",
       "      <th>education</th>\n",
       "      <th>industry</th>\n",
       "      <th>industry_experience</th>\n",
       "      <th>salary</th>\n",
       "    </tr>\n",
       "  </thead>\n",
       "  <tbody>\n",
       "    <tr>\n",
       "      <th>0</th>\n",
       "      <td>19</td>\n",
       "      <td>Male</td>\n",
       "      <td>high school</td>\n",
       "      <td>business</td>\n",
       "      <td>0</td>\n",
       "      <td>33640.60752</td>\n",
       "    </tr>\n",
       "    <tr>\n",
       "      <th>1</th>\n",
       "      <td>21</td>\n",
       "      <td>Male</td>\n",
       "      <td>high school</td>\n",
       "      <td>business</td>\n",
       "      <td>2</td>\n",
       "      <td>43554.24216</td>\n",
       "    </tr>\n",
       "    <tr>\n",
       "      <th>2</th>\n",
       "      <td>19</td>\n",
       "      <td>Male</td>\n",
       "      <td>high school</td>\n",
       "      <td>business</td>\n",
       "      <td>0</td>\n",
       "      <td>39795.29424</td>\n",
       "    </tr>\n",
       "    <tr>\n",
       "      <th>3</th>\n",
       "      <td>22</td>\n",
       "      <td>Male</td>\n",
       "      <td>high school</td>\n",
       "      <td>business</td>\n",
       "      <td>1</td>\n",
       "      <td>51102.98856</td>\n",
       "    </tr>\n",
       "    <tr>\n",
       "      <th>4</th>\n",
       "      <td>21</td>\n",
       "      <td>Male</td>\n",
       "      <td>high school</td>\n",
       "      <td>business</td>\n",
       "      <td>1</td>\n",
       "      <td>32809.57056</td>\n",
       "    </tr>\n",
       "  </tbody>\n",
       "</table>\n",
       "</div>"
      ],
      "text/plain": [
       "   age gender    education  industry  industry_experience       salary\n",
       "0   19   Male  high school  business                    0  33640.60752\n",
       "1   21   Male  high school  business                    2  43554.24216\n",
       "2   19   Male  high school  business                    0  39795.29424\n",
       "3   22   Male  high school  business                    1  51102.98856\n",
       "4   21   Male  high school  business                    1  32809.57056"
      ]
     },
     "execution_count": 8,
     "metadata": {},
     "output_type": "execute_result"
    }
   ],
   "source": [
    "salary_df.head()"
   ]
  },
  {
   "cell_type": "code",
   "execution_count": 9,
   "id": "c23cc437",
   "metadata": {},
   "outputs": [
    {
     "data": {
      "text/html": [
       "<div>\n",
       "<style scoped>\n",
       "    .dataframe tbody tr th:only-of-type {\n",
       "        vertical-align: middle;\n",
       "    }\n",
       "\n",
       "    .dataframe tbody tr th {\n",
       "        vertical-align: top;\n",
       "    }\n",
       "\n",
       "    .dataframe thead th {\n",
       "        text-align: right;\n",
       "    }\n",
       "</style>\n",
       "<table border=\"1\" class=\"dataframe\">\n",
       "  <thead>\n",
       "    <tr style=\"text-align: right;\">\n",
       "      <th></th>\n",
       "      <th>age</th>\n",
       "      <th>gender</th>\n",
       "      <th>education</th>\n",
       "      <th>industry</th>\n",
       "      <th>industry_experience</th>\n",
       "      <th>salary</th>\n",
       "    </tr>\n",
       "  </thead>\n",
       "  <tbody>\n",
       "    <tr>\n",
       "      <th>25434</th>\n",
       "      <td>66</td>\n",
       "      <td>Female</td>\n",
       "      <td>masters degree</td>\n",
       "      <td>healthcare</td>\n",
       "      <td>22</td>\n",
       "      <td>113001.504</td>\n",
       "    </tr>\n",
       "    <tr>\n",
       "      <th>25435</th>\n",
       "      <td>61</td>\n",
       "      <td>Female</td>\n",
       "      <td>masters degree</td>\n",
       "      <td>healthcare</td>\n",
       "      <td>22</td>\n",
       "      <td>122528.736</td>\n",
       "    </tr>\n",
       "    <tr>\n",
       "      <th>25436</th>\n",
       "      <td>65</td>\n",
       "      <td>Female</td>\n",
       "      <td>masters degree</td>\n",
       "      <td>healthcare</td>\n",
       "      <td>33</td>\n",
       "      <td>101398.176</td>\n",
       "    </tr>\n",
       "    <tr>\n",
       "      <th>25437</th>\n",
       "      <td>61</td>\n",
       "      <td>Female</td>\n",
       "      <td>masters degree</td>\n",
       "      <td>healthcare</td>\n",
       "      <td>21</td>\n",
       "      <td>93051.552</td>\n",
       "    </tr>\n",
       "    <tr>\n",
       "      <th>25438</th>\n",
       "      <td>63</td>\n",
       "      <td>Female</td>\n",
       "      <td>masters degree</td>\n",
       "      <td>healthcare</td>\n",
       "      <td>20</td>\n",
       "      <td>90307.008</td>\n",
       "    </tr>\n",
       "  </tbody>\n",
       "</table>\n",
       "</div>"
      ],
      "text/plain": [
       "       age  gender       education    industry  industry_experience  \\\n",
       "25434   66  Female  masters degree  healthcare                   22   \n",
       "25435   61  Female  masters degree  healthcare                   22   \n",
       "25436   65  Female  masters degree  healthcare                   33   \n",
       "25437   61  Female  masters degree  healthcare                   21   \n",
       "25438   63  Female  masters degree  healthcare                   20   \n",
       "\n",
       "           salary  \n",
       "25434  113001.504  \n",
       "25435  122528.736  \n",
       "25436  101398.176  \n",
       "25437   93051.552  \n",
       "25438   90307.008  "
      ]
     },
     "execution_count": 9,
     "metadata": {},
     "output_type": "execute_result"
    }
   ],
   "source": [
    "salary_df.tail()"
   ]
  },
  {
   "cell_type": "code",
   "execution_count": null,
   "id": "6ae83b96",
   "metadata": {},
   "outputs": [],
   "source": []
  },
  {
   "cell_type": "code",
   "execution_count": 10,
   "id": "327799c9",
   "metadata": {},
   "outputs": [],
   "source": [
    "# look at basic dataframe info"
   ]
  },
  {
   "cell_type": "code",
   "execution_count": 11,
   "id": "1e86db20",
   "metadata": {},
   "outputs": [
    {
     "name": "stdout",
     "output_type": "stream",
     "text": [
      "<class 'pandas.core.frame.DataFrame'>\n",
      "RangeIndex: 25439 entries, 0 to 25438\n",
      "Data columns (total 6 columns):\n",
      " #   Column               Non-Null Count  Dtype  \n",
      "---  ------               --------------  -----  \n",
      " 0   age                  25439 non-null  int64  \n",
      " 1   gender               25439 non-null  object \n",
      " 2   education            25439 non-null  object \n",
      " 3   industry             25439 non-null  object \n",
      " 4   industry_experience  25439 non-null  int64  \n",
      " 5   salary               25439 non-null  float64\n",
      "dtypes: float64(1), int64(2), object(3)\n",
      "memory usage: 1.2+ MB\n"
     ]
    }
   ],
   "source": [
    "salary_df.info()"
   ]
  },
  {
   "cell_type": "markdown",
   "id": "7a9748f6",
   "metadata": {},
   "source": [
    "### Step 3 - Review Types of Basic Univariate Plots"
   ]
  },
  {
   "cell_type": "code",
   "execution_count": 12,
   "id": "de134166",
   "metadata": {},
   "outputs": [],
   "source": [
    "################################### TO DO #########################################\n",
    "####### FOLLOW PROJECT INSTRUCTIONS TO COMPLETE THIS STEP IN THE CELLS BELOW ######"
   ]
  },
  {
   "cell_type": "markdown",
   "id": "88e02be3",
   "metadata": {},
   "source": [
    "#### Fill in blanks with a brief description of each plot type:\n",
    "\n",
    "  \n",
    "- Histogram\n",
    "> [values are distributed by frequency of data bavlue - they're organized into bins to show data spread (helpful for showing skew)]\n",
    "- Density Plot / KDE\n",
    "> [a smoother version of a histogram, continous curved line.\n",
    "kde - kernel density estimate]\n",
    "- Bar Chart\n",
    "> [Used for visualizing categorical data]\n",
    "- Line Plot\n",
    "> [similar to scatter-plot but the points are joined by line segments]\n",
    "- Univariate scatter plot\n",
    "> [plots different values of the same variable - corresponds to the index]\n",
    "- Violin Plot\n",
    "> [similar to a boxplot, but has a \"rotated kernal density plot\" on each side - shows peaks in the numerical data ]\n",
    "- Box Plot\n",
    "> [Used to show spread of dataset - give descriptive statistics w/ 5 number summary (minimum, first quartile, second quartile(median), third quartile, maximum. Helpful in detecting outliers.]\n",
    "- Pie Chart\n",
    "> [A pie - shows nominal data as a \"slice\" of the entire dataset]\n",
    "- Rug Plot\n",
    "> [basically tick marks on the bottom of a histogram, not very readable]\n"
   ]
  },
  {
   "cell_type": "markdown",
   "id": "643f91a7",
   "metadata": {},
   "source": [
    "### Step 4 - Choose Which Plot(s) You Will Use for Each Variable"
   ]
  },
  {
   "cell_type": "code",
   "execution_count": 13,
   "id": "1a551ee5",
   "metadata": {},
   "outputs": [],
   "source": [
    "################################### TO DO #########################################\n",
    "####### FOLLOW PROJECT INSTRUCTIONS TO COMPLETE THIS STEP IN THE CELLS BELOW ######"
   ]
  },
  {
   "cell_type": "markdown",
   "id": "82f93c8f",
   "metadata": {},
   "source": [
    "#### Take a moment to plan what types of plots you will make for each variable  \n",
    "  \n",
    "  \n",
    "- age\n",
    "> plot type...histogram\n",
    "- gender\n",
    "> plot type...bar chart\n",
    "- education\n",
    "> plot type...bar chart\n",
    "- industry\n",
    "> plot type...bar chart\n",
    "- industry experience\n",
    "> plot type...box-plot ?\n",
    "- salary\n",
    "> plot type...line-plot"
   ]
  },
  {
   "cell_type": "markdown",
   "id": "1f60f546",
   "metadata": {},
   "source": [
    "### Step 5 - Create Plots for Each Variable in Dataset"
   ]
  },
  {
   "cell_type": "code",
   "execution_count": 14,
   "id": "2104cf8c",
   "metadata": {},
   "outputs": [],
   "source": [
    "# import seaborn\n",
    "import seaborn as sns\n",
    "\n",
    "# set standard plot type as seaborn plot\n",
    "sns.set()\n",
    "\n",
    "# import matplotlib\n",
    "import matplotlib.pyplot as plt\n",
    "\n",
    "# write command for plots to appear in jupyter cells automatically\n",
    "%matplotlib inline\n"
   ]
  },
  {
   "cell_type": "code",
   "execution_count": 15,
   "id": "7303b321",
   "metadata": {},
   "outputs": [],
   "source": [
    "################################### TO DO #########################################\n",
    "####### FOLLOW PROJECT INSTRUCTIONS TO COMPLETE THIS STEP IN THE CELLS BELOW ######"
   ]
  },
  {
   "cell_type": "markdown",
   "id": "ff6feb62",
   "metadata": {},
   "source": [
    "### Plot for 'age' column"
   ]
  },
  {
   "cell_type": "code",
   "execution_count": 16,
   "id": "32d5f3e6",
   "metadata": {
    "scrolled": false
   },
   "outputs": [],
   "source": [
    "# create plot for age column - HISTOGRAM"
   ]
  },
  {
   "cell_type": "code",
   "execution_count": 17,
   "id": "7cae4093",
   "metadata": {},
   "outputs": [
    {
     "data": {
      "text/plain": [
       "Text(0.5, 1.0, 'Manager Ages')"
      ]
     },
     "execution_count": 17,
     "metadata": {},
     "output_type": "execute_result"
    },
    {
     "data": {
      "image/png": "[encoded data removed]",
      "text/plain": [
       "<Figure size 1000x500 with 1 Axes>"
      ]
     },
     "metadata": {},
     "output_type": "display_data"
    }
   ],
   "source": [
    "plt.figure(figsize=(10,5))\n",
    "\n",
    "age_plot = sns.histplot(data=salary_df, x='age', bins=20, color='pink')\n",
    "\n",
    "plt.xlabel(\"Age\", fontsize=14)\n",
    "plt.ylabel(\"Number of Managers\", fontsize=14)\n",
    "\n",
    "plt.title(\"Manager Ages\", fontsize=16)"
   ]
  },
  {
   "cell_type": "markdown",
   "id": "91b9a16c",
   "metadata": {},
   "source": [
    "##### Insights:\n",
    "\n",
    "[People in their 20s make up the least amount of managers.\n",
    "Most managers are in their mid 30s to late 50s but it is almost random as to the ages that have the most managers.] "
   ]
  },
  {
   "cell_type": "markdown",
   "id": "8a7eb9f7",
   "metadata": {},
   "source": [
    "### Plot for 'industry' column"
   ]
  },
  {
   "cell_type": "code",
   "execution_count": 18,
   "id": "8e42ae95",
   "metadata": {},
   "outputs": [],
   "source": [
    "# create plot for industry column - BAR CHART"
   ]
  },
  {
   "cell_type": "code",
   "execution_count": 19,
   "id": "01790f68",
   "metadata": {},
   "outputs": [
    {
     "data": {
      "text/plain": [
       "Text(0.5, 1.0, 'Industries in Dataframe')"
      ]
     },
     "execution_count": 19,
     "metadata": {},
     "output_type": "execute_result"
    },
    {
     "data": {
      "image/png": "[encoded data removed]",
      "text/plain": [
       "<Figure size 1000x500 with 1 Axes>"
      ]
     },
     "metadata": {},
     "output_type": "display_data"
    }
   ],
   "source": [
    "plt.figure(figsize=(10,5))\n",
    "\n",
    "industry_plot = sns.countplot(data=salary_df, x='industry', palette=\"flare\")\n",
    "#barplot needs numberical data, countplot will do categorical data\n",
    "\n",
    "plt.xticks(rotation=75)\n",
    "plt.xlabel('Industry')\n",
    "plt.ylabel('Number of Managers')\n",
    "plt.title('Industries in Dataframe', fontsize=20)"
   ]
  },
  {
   "cell_type": "markdown",
   "id": "3c42c49c",
   "metadata": {},
   "source": [
    "##### Insights:\n",
    "\n",
    "[Almost every industry has equal numbers of managers. Healthcare has a slightly lower number of managers.]"
   ]
  },
  {
   "cell_type": "markdown",
   "id": "d377bb4b",
   "metadata": {},
   "source": [
    "### Plot for 'salary' column"
   ]
  },
  {
   "cell_type": "code",
   "execution_count": 20,
   "id": "249f87db",
   "metadata": {},
   "outputs": [],
   "source": [
    "# create plot for salary column"
   ]
  },
  {
   "cell_type": "code",
   "execution_count": 21,
   "id": "a0af2780",
   "metadata": {},
   "outputs": [
    {
     "data": {
      "text/plain": [
       "Text(0.5, 1.0, 'Salary of Managers Distribution')"
      ]
     },
     "execution_count": 21,
     "metadata": {},
     "output_type": "execute_result"
    },
    {
     "data": {
      "image/png": "[encoded data removed]",
      "text/plain": [
       "<Figure size 1000x500 with 1 Axes>"
      ]
     },
     "metadata": {},
     "output_type": "display_data"
    }
   ],
   "source": [
    "plt.figure(figsize=(10,5))\n",
    "\n",
    "# salary_plot = sns.distplot(data=salary_df, x='salary', kind='hist', bins=30)\n",
    "# salary_plot = sns.distplot(x=salary_df['salary'], bins=30) - But this gave a warning that it is being removed from future versions.\n",
    "\n",
    "salary_plot = sns.histplot(data=salary_df, x='salary', bins=20, kde=True, color='orange')\n",
    "\n",
    "plt.xlabel('Salary')\n",
    "plt.ylabel('Number of Managers')\n",
    "plt.title('Salary of Managers Distribution')\n"
   ]
  },
  {
   "cell_type": "markdown",
   "id": "007c1a63",
   "metadata": {},
   "source": [
    "##### Insights:\n",
    "\n",
    "[Distribution is nearly normal curve - most managers make between 85k - 110k salaries. Very small numbers of managers make more than 170k]"
   ]
  },
  {
   "cell_type": "markdown",
   "id": "7306d6d7",
   "metadata": {},
   "source": [
    "### Plot for 'industry_experience' column"
   ]
  },
  {
   "cell_type": "code",
   "execution_count": 22,
   "id": "59d08e86",
   "metadata": {},
   "outputs": [],
   "source": [
    "# create plot for industry experience column"
   ]
  },
  {
   "cell_type": "code",
   "execution_count": 23,
   "id": "9feaabf0",
   "metadata": {},
   "outputs": [
    {
     "data": {
      "text/plain": [
       "Text(0.5, 1.0, 'Managers Years of Industry Experience')"
      ]
     },
     "execution_count": 23,
     "metadata": {},
     "output_type": "execute_result"
    },
    {
     "data": {
      "image/png": "[encoded data removed]",
      "text/plain": [
       "<Figure size 1000x500 with 1 Axes>"
      ]
     },
     "metadata": {},
     "output_type": "display_data"
    }
   ],
   "source": [
    "plt.figure(figsize=(10,5))\n",
    "\n",
    "ind_exp_plot = sns.histplot(data=salary_df, x = \"industry_experience\", bins=20, color='teal')\n",
    "\n",
    "plt.xlabel('Yrs Industry Experience', fontsize=12)\n",
    "plt.ylabel('Number of Managers', color='teal')\n",
    "plt.title('Managers Years of Industry Experience', fontsize=15)"
   ]
  },
  {
   "cell_type": "markdown",
   "id": "029da89d",
   "metadata": {},
   "source": [
    "##### Insights:\n",
    "\n",
    "[close to normal distribution - most managers have 12-25 years experience. The least amount have less than 10 years experience.]"
   ]
  },
  {
   "cell_type": "markdown",
   "id": "c29d3747",
   "metadata": {},
   "source": [
    "### Plot for 'education' column"
   ]
  },
  {
   "cell_type": "code",
   "execution_count": 24,
   "id": "949e6d26",
   "metadata": {},
   "outputs": [],
   "source": [
    "# create plot for education levels"
   ]
  },
  {
   "cell_type": "code",
   "execution_count": 25,
   "id": "48ca1b12",
   "metadata": {},
   "outputs": [
    {
     "data": {
      "text/plain": [
       "Text(0.5, 1.0, 'Education')"
      ]
     },
     "execution_count": 25,
     "metadata": {},
     "output_type": "execute_result"
    },
    {
     "data": {
      "image/png": "[encoded data removed]",
      "text/plain": [
       "<Figure size 1000x500 with 1 Axes>"
      ]
     },
     "metadata": {},
     "output_type": "display_data"
    }
   ],
   "source": [
    "plt.figure(figsize=(10,5))\n",
    "\n",
    "ed_plot = sns.countplot(data=salary_df, x='education')\n",
    "\n",
    "plt.xlabel('Education')\n",
    "plt.ylabel('Number of Managers')\n",
    "plt.title(\"Education\")"
   ]
  },
  {
   "cell_type": "markdown",
   "id": "643cb6f5",
   "metadata": {},
   "source": [
    "##### Insights:\n",
    "\n",
    "[It would appear that it benefits to have a bachelor's or masters to become a manager.,]"
   ]
  },
  {
   "cell_type": "markdown",
   "id": "2644e3f4",
   "metadata": {},
   "source": [
    "### Plot for 'gender' column"
   ]
  },
  {
   "cell_type": "code",
   "execution_count": 26,
   "id": "1ce546d1",
   "metadata": {},
   "outputs": [],
   "source": [
    "# create plot for gender column"
   ]
  },
  {
   "cell_type": "code",
   "execution_count": 27,
   "id": "500fbd1d",
   "metadata": {},
   "outputs": [
    {
     "data": {
      "image/png": "[encoded data removed]",
      "text/plain": [
       "<Figure size 640x480 with 1 Axes>"
      ]
     },
     "metadata": {},
     "output_type": "display_data"
    }
   ],
   "source": [
    "#define data\n",
    "data = salary_df['gender'].value_counts()\n",
    "labels = ['male', 'female']\n",
    "\n",
    "#define Seaborn color palette to use\n",
    "colors = sns.color_palette('pastel')\n",
    "\n",
    "#create pie chart\n",
    "gender_plot = plt.pie(data, labels = labels, colors = colors, autopct='%.0f%%')"
   ]
  },
  {
   "cell_type": "markdown",
   "id": "aafd3de1",
   "metadata": {},
   "source": [
    "##### Insights:\n",
    "\n",
    "[half of all managers are male, and female]"
   ]
  },
  {
   "cell_type": "markdown",
   "id": "26bbf342",
   "metadata": {},
   "source": [
    "## Part 2 - Summary Statistics"
   ]
  },
  {
   "cell_type": "markdown",
   "id": "6e8d8bed",
   "metadata": {},
   "source": [
    "### Step 1 - Review Summary Statistics"
   ]
  },
  {
   "cell_type": "code",
   "execution_count": 28,
   "id": "640c3a9a",
   "metadata": {},
   "outputs": [],
   "source": [
    "################################### TO DO #########################################\n",
    "####### FOLLOW PROJECT INSTRUCTIONS TO COMPLETE THIS STEP IN THE CELLS BELOW ######"
   ]
  },
  {
   "cell_type": "markdown",
   "id": "a8397d6c",
   "metadata": {},
   "source": [
    "- mean\n",
    "> the average of a data set\n",
    "- median\n",
    "> value that separates the higher half from the lower half of data\n",
    "- mode\n",
    "> value that appears most often in a data set\n",
    "- central tendency\n",
    "> a single values that strives to be most typical or representative of a data set\n",
    "- distribution\n",
    "> describes how values are \"distributed\" or spread, shows which values are common and uncommon\n",
    "- variance\n",
    "> measure of dipsersion - takes into account the spread of all data points in a data set\n",
    "- standard deviation\n",
    "> measure of how dispersed data is in relation to the mean - low means close to mean, high means far from mean"
   ]
  },
  {
   "cell_type": "markdown",
   "id": "071813ce",
   "metadata": {},
   "source": [
    "### Step 2 - Find  & Report Summary Statistics For Numeric Variables"
   ]
  },
  {
   "cell_type": "code",
   "execution_count": 29,
   "id": "27de12ee",
   "metadata": {},
   "outputs": [],
   "source": [
    "################################### TO DO #########################################\n",
    "####### FOLLOW PROJECT INSTRUCTIONS TO COMPLETE THIS STEP IN THE CELLS BELOW ######"
   ]
  },
  {
   "cell_type": "markdown",
   "id": "8fbe124c",
   "metadata": {},
   "source": [
    "#### Age Summary Statistics"
   ]
  },
  {
   "cell_type": "code",
   "execution_count": 30,
   "id": "dcfe2a15",
   "metadata": {},
   "outputs": [],
   "source": [
    "# use .describe to get summary statistics for age column"
   ]
  },
  {
   "cell_type": "code",
   "execution_count": 31,
   "id": "b3659ade",
   "metadata": {},
   "outputs": [
    {
     "data": {
      "text/plain": [
       "count    25439.000000\n",
       "mean        46.219466\n",
       "std         12.758662\n",
       "min         18.000000\n",
       "25%         36.000000\n",
       "50%         47.000000\n",
       "75%         57.000000\n",
       "max         67.000000\n",
       "Name: age, dtype: float64"
      ]
     },
     "execution_count": 31,
     "metadata": {},
     "output_type": "execute_result"
    }
   ],
   "source": [
    "salary_df['age'].describe()"
   ]
  },
  {
   "cell_type": "code",
   "execution_count": 32,
   "id": "7f9a7b6f",
   "metadata": {},
   "outputs": [],
   "source": [
    "# create boxplot to visualize age summary statistics"
   ]
  },
  {
   "cell_type": "code",
   "execution_count": 33,
   "id": "a30cb48f",
   "metadata": {},
   "outputs": [
    {
     "data": {
      "text/plain": [
       "Text(0.5, 1.0, 'Distribution of Managers by Age')"
      ]
     },
     "execution_count": 33,
     "metadata": {},
     "output_type": "execute_result"
    },
    {
     "data": {
      "image/png": "[encoded data removed]",
      "text/plain": [
       "<Figure size 800x500 with 1 Axes>"
      ]
     },
     "metadata": {},
     "output_type": "display_data"
    }
   ],
   "source": [
    "plt.figure(figsize=(8,5))\n",
    "\n",
    "sns.boxplot(x=salary_df['age'])\n",
    "plt.title('Distribution of Managers by Age')"
   ]
  },
  {
   "cell_type": "markdown",
   "id": "bac0a897",
   "metadata": {},
   "source": [
    "- age **mean**\n",
    "> The mean age is [46]\n",
    "- age **median**\n",
    "> The median age is [47]\n",
    "- age **minimum**\n",
    "> The minimum age is [18]\n",
    "- age **maximum**\n",
    "> The maximum age is [67]\n",
    "- age **standard deviation**\n",
    "> The standard deviation is [12.76] "
   ]
  },
  {
   "cell_type": "markdown",
   "id": "0cf267f9",
   "metadata": {},
   "source": [
    "###### Reflection: How did mean and median differ above? Why do you think that is?\n",
    "\n",
    "[mean is an average whereas median is just a divide between higher and lower values - mean is affected by outliers while median is not]"
   ]
  },
  {
   "cell_type": "markdown",
   "id": "6168d7c8",
   "metadata": {},
   "source": [
    "#### Salary Summary Statistics"
   ]
  },
  {
   "cell_type": "code",
   "execution_count": 34,
   "id": "5ec63d65",
   "metadata": {},
   "outputs": [],
   "source": [
    "# use .describe to get summary statistics for salary"
   ]
  },
  {
   "cell_type": "code",
   "execution_count": 35,
   "id": "472ca95c",
   "metadata": {},
   "outputs": [
    {
     "data": {
      "text/plain": [
       "count     25439.000000\n",
       "mean     101416.000070\n",
       "std       26136.687123\n",
       "min       28054.080000\n",
       "25%       84621.294048\n",
       "50%      101148.480000\n",
       "75%      119828.075728\n",
       "max      175223.321900\n",
       "Name: salary, dtype: float64"
      ]
     },
     "execution_count": 35,
     "metadata": {},
     "output_type": "execute_result"
    }
   ],
   "source": [
    "salary_df['salary'].describe()"
   ]
  },
  {
   "cell_type": "code",
   "execution_count": 36,
   "id": "8cf7d0db",
   "metadata": {},
   "outputs": [
    {
     "data": {
      "text/plain": [
       "Text(0.5, 0, 'Salary USD')"
      ]
     },
     "execution_count": 36,
     "metadata": {},
     "output_type": "execute_result"
    },
    {
     "data": {
      "image/png": "[encoded data removed]",
      "text/plain": [
       "<Figure size 800x500 with 1 Axes>"
      ]
     },
     "metadata": {},
     "output_type": "display_data"
    }
   ],
   "source": [
    "plt.figure(figsize=(8,5))\n",
    "sns.boxplot(data=salary_df, x='salary')\n",
    "plt.title(\"Salary of Managers\")\n",
    "plt.xlabel(\"Salary USD\")"
   ]
  },
  {
   "cell_type": "code",
   "execution_count": 37,
   "id": "37118ff1",
   "metadata": {
    "scrolled": true
   },
   "outputs": [],
   "source": [
    "# create boxplot to visualize salary summary statistics"
   ]
  },
  {
   "cell_type": "markdown",
   "id": "f7c9ff81",
   "metadata": {},
   "source": [
    "- Salary **mean**\n",
    "> The mean salary is [101416]\n",
    "- Salary **median**\n",
    "> The median salary is [101148]\n",
    "- Salary **minimum**\n",
    "> The minimum salary is [28054]\n",
    "- Salary **maximum**\n",
    "> The maximum salary is [175223]\n",
    "- Salary **standard deviation**\n",
    "> The standard deviation is [26136]"
   ]
  },
  {
   "cell_type": "markdown",
   "id": "90bbbe7e",
   "metadata": {},
   "source": [
    "###### Reflection: How did mean and median differ above? Why do you think that is?\n",
    "\n",
    "[The mean and the median were nearly the same. That could be because the standard deviation is smaller."
   ]
  },
  {
   "cell_type": "markdown",
   "id": "64f1c14a",
   "metadata": {},
   "source": [
    "### Step 3 - Find Salary Summary Statistics By Industry"
   ]
  },
  {
   "cell_type": "code",
   "execution_count": 38,
   "id": "bb5ccb52",
   "metadata": {},
   "outputs": [],
   "source": [
    "################################### TO DO #########################################\n",
    "####### FOLLOW PROJECT INSTRUCTIONS TO COMPLETE THIS STEP IN THE CELLS BELOW ######"
   ]
  },
  {
   "cell_type": "code",
   "execution_count": 39,
   "id": "c7e92c1d",
   "metadata": {},
   "outputs": [],
   "source": [
    "# use groupby() and describe() to get salary summary statistics by industry"
   ]
  },
  {
   "cell_type": "code",
   "execution_count": 77,
   "id": "b2e4b65a",
   "metadata": {},
   "outputs": [
    {
     "data": {
      "text/html": [
       "<div>\n",
       "<style scoped>\n",
       "    .dataframe tbody tr th:only-of-type {\n",
       "        vertical-align: middle;\n",
       "    }\n",
       "\n",
       "    .dataframe tbody tr th {\n",
       "        vertical-align: top;\n",
       "    }\n",
       "\n",
       "    .dataframe thead th {\n",
       "        text-align: right;\n",
       "    }\n",
       "</style>\n",
       "<table border=\"1\" class=\"dataframe\">\n",
       "  <thead>\n",
       "    <tr style=\"text-align: right;\">\n",
       "      <th></th>\n",
       "      <th>count</th>\n",
       "      <th>mean</th>\n",
       "      <th>std</th>\n",
       "      <th>min</th>\n",
       "      <th>25%</th>\n",
       "      <th>50%</th>\n",
       "      <th>75%</th>\n",
       "      <th>max</th>\n",
       "    </tr>\n",
       "    <tr>\n",
       "      <th>industry</th>\n",
       "      <th></th>\n",
       "      <th></th>\n",
       "      <th></th>\n",
       "      <th></th>\n",
       "      <th></th>\n",
       "      <th></th>\n",
       "      <th></th>\n",
       "      <th></th>\n",
       "    </tr>\n",
       "  </thead>\n",
       "  <tbody>\n",
       "    <tr>\n",
       "      <th>business</th>\n",
       "      <td>6367.0</td>\n",
       "      <td>98296.471387</td>\n",
       "      <td>24822.138864</td>\n",
       "      <td>29340.67968</td>\n",
       "      <td>82482.816000</td>\n",
       "      <td>98200.01048</td>\n",
       "      <td>116110.250464</td>\n",
       "      <td>159030.78048</td>\n",
       "    </tr>\n",
       "    <tr>\n",
       "      <th>finance</th>\n",
       "      <td>6383.0</td>\n",
       "      <td>102838.541755</td>\n",
       "      <td>26344.729075</td>\n",
       "      <td>30747.52224</td>\n",
       "      <td>86224.406400</td>\n",
       "      <td>102692.33568</td>\n",
       "      <td>122237.832000</td>\n",
       "      <td>166370.21852</td>\n",
       "    </tr>\n",
       "    <tr>\n",
       "      <th>healthcare</th>\n",
       "      <td>6307.0</td>\n",
       "      <td>94767.547447</td>\n",
       "      <td>23696.008298</td>\n",
       "      <td>28054.08000</td>\n",
       "      <td>79538.185000</td>\n",
       "      <td>94728.96000</td>\n",
       "      <td>112058.784000</td>\n",
       "      <td>152775.98600</td>\n",
       "    </tr>\n",
       "    <tr>\n",
       "      <th>technology</th>\n",
       "      <td>6382.0</td>\n",
       "      <td>109675.753478</td>\n",
       "      <td>27127.404233</td>\n",
       "      <td>32704.34400</td>\n",
       "      <td>92223.969112</td>\n",
       "      <td>109130.17575</td>\n",
       "      <td>129758.177182</td>\n",
       "      <td>175223.32190</td>\n",
       "    </tr>\n",
       "  </tbody>\n",
       "</table>\n",
       "</div>"
      ],
      "text/plain": [
       "             count           mean           std          min           25%  \\\n",
       "industry                                                                     \n",
       "business    6367.0   98296.471387  24822.138864  29340.67968  82482.816000   \n",
       "finance     6383.0  102838.541755  26344.729075  30747.52224  86224.406400   \n",
       "healthcare  6307.0   94767.547447  23696.008298  28054.08000  79538.185000   \n",
       "technology  6382.0  109675.753478  27127.404233  32704.34400  92223.969112   \n",
       "\n",
       "                     50%            75%           max  \n",
       "industry                                               \n",
       "business     98200.01048  116110.250464  159030.78048  \n",
       "finance     102692.33568  122237.832000  166370.21852  \n",
       "healthcare   94728.96000  112058.784000  152775.98600  \n",
       "technology  109130.17575  129758.177182  175223.32190  "
      ]
     },
     "execution_count": 77,
     "metadata": {},
     "output_type": "execute_result"
    }
   ],
   "source": [
    "salary_df['salary'].groupby(salary_df['industry']).describe()"
   ]
  },
  {
   "cell_type": "code",
   "execution_count": 40,
   "id": "a364806e",
   "metadata": {},
   "outputs": [],
   "source": [
    "# create visualization with multiple boxplots to show salary summary statistics by industry"
   ]
  },
  {
   "cell_type": "code",
   "execution_count": 79,
   "id": "d5d4398e",
   "metadata": {},
   "outputs": [
    {
     "data": {
      "image/png": "[encoded data removed]",
      "text/plain": [
       "<Figure size 640x480 with 1 Axes>"
      ]
     },
     "metadata": {},
     "output_type": "display_data"
    }
   ],
   "source": [
    "sns.boxplot(data=salary_df, x='industry', y='salary')\n",
    "plt.title=('Dist of Salaries Across Industries')"
   ]
  },
  {
   "cell_type": "markdown",
   "id": "fb0a29d8",
   "metadata": {},
   "source": [
    "##### Insights:\n",
    "\n",
    "[managers in tech make the most, healthcare makes least, but the spread of salaries is similar. The medians of business, finance, and healthcare are all similar.]"
   ]
  },
  {
   "cell_type": "markdown",
   "id": "9f54ff3c",
   "metadata": {},
   "source": [
    "### Step 4 - Find Salary Summary Statistics By Education"
   ]
  },
  {
   "cell_type": "code",
   "execution_count": 41,
   "id": "546016eb",
   "metadata": {},
   "outputs": [],
   "source": [
    "################################### TO DO #########################################\n",
    "####### FOLLOW PROJECT INSTRUCTIONS TO COMPLETE THIS STEP IN THE CELLS BELOW ######"
   ]
  },
  {
   "cell_type": "code",
   "execution_count": 42,
   "id": "5878a471",
   "metadata": {},
   "outputs": [],
   "source": [
    "# use groupby() and describe() to get salary summary statistics by education level"
   ]
  },
  {
   "cell_type": "code",
   "execution_count": 80,
   "id": "4cc469fb",
   "metadata": {},
   "outputs": [
    {
     "data": {
      "text/html": [
       "<div>\n",
       "<style scoped>\n",
       "    .dataframe tbody tr th:only-of-type {\n",
       "        vertical-align: middle;\n",
       "    }\n",
       "\n",
       "    .dataframe tbody tr th {\n",
       "        vertical-align: top;\n",
       "    }\n",
       "\n",
       "    .dataframe thead th {\n",
       "        text-align: right;\n",
       "    }\n",
       "</style>\n",
       "<table border=\"1\" class=\"dataframe\">\n",
       "  <thead>\n",
       "    <tr style=\"text-align: right;\">\n",
       "      <th></th>\n",
       "      <th>count</th>\n",
       "      <th>mean</th>\n",
       "      <th>std</th>\n",
       "      <th>min</th>\n",
       "      <th>25%</th>\n",
       "      <th>50%</th>\n",
       "      <th>75%</th>\n",
       "      <th>max</th>\n",
       "    </tr>\n",
       "    <tr>\n",
       "      <th>education</th>\n",
       "      <th></th>\n",
       "      <th></th>\n",
       "      <th></th>\n",
       "      <th></th>\n",
       "      <th></th>\n",
       "      <th></th>\n",
       "      <th></th>\n",
       "      <th></th>\n",
       "    </tr>\n",
       "  </thead>\n",
       "  <tbody>\n",
       "    <tr>\n",
       "      <th>bachelors degree</th>\n",
       "      <td>10972.0</td>\n",
       "      <td>100710.905311</td>\n",
       "      <td>20960.707146</td>\n",
       "      <td>40962.240</td>\n",
       "      <td>85154.097000</td>\n",
       "      <td>98829.004800</td>\n",
       "      <td>115799.14680</td>\n",
       "      <td>159790.23450</td>\n",
       "    </tr>\n",
       "    <tr>\n",
       "      <th>high school</th>\n",
       "      <td>781.0</td>\n",
       "      <td>47602.924607</td>\n",
       "      <td>10556.975508</td>\n",
       "      <td>28054.080</td>\n",
       "      <td>39832.128000</td>\n",
       "      <td>46255.446000</td>\n",
       "      <td>53930.62080</td>\n",
       "      <td>78486.86520</td>\n",
       "    </tr>\n",
       "    <tr>\n",
       "      <th>masters degree</th>\n",
       "      <td>8979.0</td>\n",
       "      <td>115583.500303</td>\n",
       "      <td>21594.533546</td>\n",
       "      <td>68037.024</td>\n",
       "      <td>98782.553760</td>\n",
       "      <td>113936.908800</td>\n",
       "      <td>131988.10416</td>\n",
       "      <td>175223.32190</td>\n",
       "    </tr>\n",
       "    <tr>\n",
       "      <th>some college</th>\n",
       "      <td>4707.0</td>\n",
       "      <td>84962.702227</td>\n",
       "      <td>24994.963474</td>\n",
       "      <td>29030.208</td>\n",
       "      <td>68385.261696</td>\n",
       "      <td>84824.902426</td>\n",
       "      <td>103041.44640</td>\n",
       "      <td>149241.93034</td>\n",
       "    </tr>\n",
       "  </tbody>\n",
       "</table>\n",
       "</div>"
      ],
      "text/plain": [
       "                    count           mean           std        min  \\\n",
       "education                                                           \n",
       "bachelors degree  10972.0  100710.905311  20960.707146  40962.240   \n",
       "high school         781.0   47602.924607  10556.975508  28054.080   \n",
       "masters degree     8979.0  115583.500303  21594.533546  68037.024   \n",
       "some college       4707.0   84962.702227  24994.963474  29030.208   \n",
       "\n",
       "                           25%            50%           75%           max  \n",
       "education                                                                  \n",
       "bachelors degree  85154.097000   98829.004800  115799.14680  159790.23450  \n",
       "high school       39832.128000   46255.446000   53930.62080   78486.86520  \n",
       "masters degree    98782.553760  113936.908800  131988.10416  175223.32190  \n",
       "some college      68385.261696   84824.902426  103041.44640  149241.93034  "
      ]
     },
     "execution_count": 80,
     "metadata": {},
     "output_type": "execute_result"
    }
   ],
   "source": [
    "salary_df['salary'].groupby(salary_df['education']).describe()"
   ]
  },
  {
   "cell_type": "code",
   "execution_count": 43,
   "id": "acc802f2",
   "metadata": {},
   "outputs": [],
   "source": [
    "# create visualization with multiple boxplots to show salary summary statistics by education level"
   ]
  },
  {
   "cell_type": "code",
   "execution_count": 83,
   "id": "6432c8b1",
   "metadata": {},
   "outputs": [
    {
     "data": {
      "text/plain": [
       "<AxesSubplot:xlabel='salary', ylabel='education'>"
      ]
     },
     "execution_count": 83,
     "metadata": {},
     "output_type": "execute_result"
    },
    {
     "data": {
      "image/png": "[encoded data removed]",
      "text/plain": [
       "<Figure size 640x480 with 1 Axes>"
      ]
     },
     "metadata": {},
     "output_type": "display_data"
    }
   ],
   "source": [
    "sns.boxplot(data=salary_df, x='salary', y='education')"
   ]
  },
  {
   "cell_type": "markdown",
   "id": "5bb88719",
   "metadata": {},
   "source": [
    "##### Insights:\n",
    "\n",
    "[it appears that the lowest salaries are for managers with only highschool diploma, the highest salaries are those with masters degrees]"
   ]
  },
  {
   "cell_type": "markdown",
   "id": "d90a7570",
   "metadata": {},
   "source": [
    "### Step 5 - Find Salary Summary Statistics by Gender"
   ]
  },
  {
   "cell_type": "code",
   "execution_count": 44,
   "id": "d7940bfb",
   "metadata": {},
   "outputs": [],
   "source": [
    "################################### TO DO #########################################\n",
    "####### FOLLOW PROJECT INSTRUCTIONS TO COMPLETE THIS STEP IN THE CELLS BELOW ######"
   ]
  },
  {
   "cell_type": "code",
   "execution_count": 45,
   "id": "5b5cb514",
   "metadata": {},
   "outputs": [],
   "source": [
    "# use groupby() and describe() to get salary summary statistics by gender"
   ]
  },
  {
   "cell_type": "code",
   "execution_count": 84,
   "id": "18ce92d4",
   "metadata": {},
   "outputs": [
    {
     "data": {
      "text/html": [
       "<div>\n",
       "<style scoped>\n",
       "    .dataframe tbody tr th:only-of-type {\n",
       "        vertical-align: middle;\n",
       "    }\n",
       "\n",
       "    .dataframe tbody tr th {\n",
       "        vertical-align: top;\n",
       "    }\n",
       "\n",
       "    .dataframe thead th {\n",
       "        text-align: right;\n",
       "    }\n",
       "</style>\n",
       "<table border=\"1\" class=\"dataframe\">\n",
       "  <thead>\n",
       "    <tr style=\"text-align: right;\">\n",
       "      <th></th>\n",
       "      <th>count</th>\n",
       "      <th>mean</th>\n",
       "      <th>std</th>\n",
       "      <th>min</th>\n",
       "      <th>25%</th>\n",
       "      <th>50%</th>\n",
       "      <th>75%</th>\n",
       "      <th>max</th>\n",
       "    </tr>\n",
       "    <tr>\n",
       "      <th>gender</th>\n",
       "      <th></th>\n",
       "      <th></th>\n",
       "      <th></th>\n",
       "      <th></th>\n",
       "      <th></th>\n",
       "      <th></th>\n",
       "      <th></th>\n",
       "      <th></th>\n",
       "    </tr>\n",
       "  </thead>\n",
       "  <tbody>\n",
       "    <tr>\n",
       "      <th>Female</th>\n",
       "      <td>12730.0</td>\n",
       "      <td>98209.928810</td>\n",
       "      <td>24978.233860</td>\n",
       "      <td>28054.080</td>\n",
       "      <td>81938.1888</td>\n",
       "      <td>98057.3880</td>\n",
       "      <td>115867.1844</td>\n",
       "      <td>163708.4064</td>\n",
       "    </tr>\n",
       "    <tr>\n",
       "      <th>Male</th>\n",
       "      <td>12709.0</td>\n",
       "      <td>104627.368954</td>\n",
       "      <td>26867.859585</td>\n",
       "      <td>29725.182</td>\n",
       "      <td>87625.1900</td>\n",
       "      <td>104240.0788</td>\n",
       "      <td>123838.3008</td>\n",
       "      <td>175223.3219</td>\n",
       "    </tr>\n",
       "  </tbody>\n",
       "</table>\n",
       "</div>"
      ],
      "text/plain": [
       "          count           mean           std        min         25%  \\\n",
       "gender                                                                \n",
       "Female  12730.0   98209.928810  24978.233860  28054.080  81938.1888   \n",
       "Male    12709.0  104627.368954  26867.859585  29725.182  87625.1900   \n",
       "\n",
       "                50%          75%          max  \n",
       "gender                                         \n",
       "Female   98057.3880  115867.1844  163708.4064  \n",
       "Male    104240.0788  123838.3008  175223.3219  "
      ]
     },
     "execution_count": 84,
     "metadata": {},
     "output_type": "execute_result"
    }
   ],
   "source": [
    "salary_df['salary'].groupby(salary_df['gender']).describe()"
   ]
  },
  {
   "cell_type": "code",
   "execution_count": 46,
   "id": "e5d6b7b6",
   "metadata": {},
   "outputs": [],
   "source": [
    "# create visualization with multiple boxplots to show summary statistics by gender"
   ]
  },
  {
   "cell_type": "code",
   "execution_count": 85,
   "id": "14863ec8",
   "metadata": {},
   "outputs": [
    {
     "data": {
      "text/plain": [
       "<AxesSubplot:xlabel='salary', ylabel='gender'>"
      ]
     },
     "execution_count": 85,
     "metadata": {},
     "output_type": "execute_result"
    },
    {
     "data": {
      "image/png": "[encoded data removed]",
      "text/plain": [
       "<Figure size 640x480 with 1 Axes>"
      ]
     },
     "metadata": {},
     "output_type": "display_data"
    }
   ],
   "source": [
    "sns.boxplot(data=salary_df, x='salary', y='gender')"
   ]
  },
  {
   "cell_type": "markdown",
   "id": "beb4f03a",
   "metadata": {},
   "source": [
    "##### Insights:\n",
    "\n",
    "[men average 6,000 more than women in all industries, men also have a larger spread than women]"
   ]
  },
  {
   "cell_type": "markdown",
   "id": "f8ba0017",
   "metadata": {},
   "source": [
    "## Part 3 - Looking for Relationships in Data"
   ]
  },
  {
   "cell_type": "markdown",
   "id": "3f336b3c",
   "metadata": {},
   "source": [
    "### Step 1 - Review Useful Tools for Bivariate Relationships"
   ]
  },
  {
   "cell_type": "code",
   "execution_count": 47,
   "id": "76950687",
   "metadata": {},
   "outputs": [],
   "source": [
    "################################### TO DO #########################################\n",
    "####### FOLLOW PROJECT INSTRUCTIONS TO COMPLETE THIS STEP IN THE CELLS BELOW ######"
   ]
  },
  {
   "cell_type": "markdown",
   "id": "ca276bc4",
   "metadata": {},
   "source": [
    "#### Fill in the blanks below with brief explanations of each type of plot listed  \n",
    "\n",
    "- **Categorical Data**\n",
    "> ***Contingency Table***\n",
    ">\n",
    ">[...]\n",
    ">\n",
    "> ***Clustered Bar Chart***\n",
    ">\n",
    ">[...]\n",
    "\n",
    "- **Mixed Data**\n",
    "> ***Individual Value Plot***\n",
    ">\n",
    ">[...]\n",
    ">\n",
    "> ***Strip Plot***\n",
    ">\n",
    ">[...]\n",
    "\n",
    "- **Quantitative Data**\n",
    "> ***Scatter plots***\n",
    ">\n",
    "> [...]"
   ]
  },
  {
   "cell_type": "markdown",
   "id": "4291af48",
   "metadata": {},
   "source": [
    "### Step 2 - Create Bivariate Plots & Tables"
   ]
  },
  {
   "cell_type": "markdown",
   "id": "a1026c3b",
   "metadata": {},
   "source": [
    "In the end of Part 2, you began looking at relationships between variables when you created boxplots which visualized the distribution of salary across different categories. In this step, you will make plots and visualizations to begin looking deeper for patterns and relationships between two variables. "
   ]
  },
  {
   "cell_type": "code",
   "execution_count": 48,
   "id": "2c7334d7",
   "metadata": {},
   "outputs": [],
   "source": [
    "################################### TO DO #########################################\n",
    "####### FOLLOW PROJECT INSTRUCTIONS TO COMPLETE THIS STEP IN THE CELLS BELOW ######"
   ]
  },
  {
   "cell_type": "markdown",
   "id": "4cdb8acb",
   "metadata": {},
   "source": [
    "### Use the Pandas Crosstab() function to compare categorical variables"
   ]
  },
  {
   "cell_type": "markdown",
   "id": "1f2325b9",
   "metadata": {},
   "source": [
    "#### crosstab of gender and education"
   ]
  },
  {
   "cell_type": "code",
   "execution_count": 49,
   "id": "10c27a5b",
   "metadata": {},
   "outputs": [],
   "source": [
    "# use pd.crosstab to count number of managers at each education level, grouped by gender"
   ]
  },
  {
   "cell_type": "markdown",
   "id": "41b10043",
   "metadata": {},
   "source": [
    "##### Insights:\n",
    "\n",
    "[fill in with your observations from the visualization]"
   ]
  },
  {
   "cell_type": "markdown",
   "id": "cd5f6bf8",
   "metadata": {},
   "source": [
    "### Strip plot between age and education"
   ]
  },
  {
   "cell_type": "code",
   "execution_count": 50,
   "id": "88b9e3b6",
   "metadata": {},
   "outputs": [],
   "source": [
    "# create strip plot for age and education"
   ]
  },
  {
   "cell_type": "markdown",
   "id": "6d5d3c6b",
   "metadata": {},
   "source": [
    "##### Insights:\n",
    "\n",
    "[fill in with your observations from the visualization]"
   ]
  },
  {
   "cell_type": "markdown",
   "id": "1e962141",
   "metadata": {},
   "source": [
    "### Scatterplot for age and salary"
   ]
  },
  {
   "cell_type": "code",
   "execution_count": 51,
   "id": "714580a6",
   "metadata": {},
   "outputs": [],
   "source": [
    "# create scatterplot for age and salary"
   ]
  },
  {
   "cell_type": "markdown",
   "id": "30f84d39",
   "metadata": {},
   "source": [
    "##### Insights:\n",
    "\n",
    "[fill in with your observations from the visualization]"
   ]
  },
  {
   "cell_type": "markdown",
   "id": "ec9eed9d",
   "metadata": {},
   "source": [
    "### Scatterplot for industry experience and salary"
   ]
  },
  {
   "cell_type": "code",
   "execution_count": 52,
   "id": "4e977c1e",
   "metadata": {
    "scrolled": true
   },
   "outputs": [],
   "source": [
    "# create scatterplot for industry experience and salary"
   ]
  },
  {
   "cell_type": "markdown",
   "id": "9b0dc883",
   "metadata": {},
   "source": [
    "##### Insights:\n",
    "\n",
    "[fill in with your observations from the visualization]"
   ]
  },
  {
   "cell_type": "markdown",
   "id": "e748463c",
   "metadata": {},
   "source": [
    "### Step 3 - Pick Two More Bivariate Relationships to Visualize"
   ]
  },
  {
   "cell_type": "code",
   "execution_count": 53,
   "id": "e36e82c9",
   "metadata": {},
   "outputs": [],
   "source": [
    "################################### TO DO #########################################\n",
    "####### FOLLOW PROJECT INSTRUCTIONS TO COMPLETE THIS STEP IN THE CELLS BELOW ######"
   ]
  },
  {
   "cell_type": "code",
   "execution_count": 54,
   "id": "cb5d3917",
   "metadata": {},
   "outputs": [],
   "source": [
    "# create 1st visualization for bivariate relationship of your choice"
   ]
  },
  {
   "cell_type": "code",
   "execution_count": 55,
   "id": "439513fe",
   "metadata": {},
   "outputs": [],
   "source": [
    "# create 2nd visualization for bivariate relationship of your choice"
   ]
  },
  {
   "cell_type": "markdown",
   "id": "97feb3bb",
   "metadata": {},
   "source": [
    "## Part 4 - Correlation & Hypothesis Testing"
   ]
  },
  {
   "cell_type": "markdown",
   "id": "73116470",
   "metadata": {},
   "source": [
    "### Step 1 - Review Correlation"
   ]
  },
  {
   "cell_type": "code",
   "execution_count": 56,
   "id": "31b3e5cb",
   "metadata": {},
   "outputs": [],
   "source": [
    "################################### TO DO #########################################\n",
    "####### FOLLOW PROJECT INSTRUCTIONS TO COMPLETE THIS STEP IN THE CELLS BELOW ######"
   ]
  },
  {
   "cell_type": "markdown",
   "id": "7cc9f053",
   "metadata": {},
   "source": [
    "#### Fill in blanks with brief description of the following terms:\n",
    "  \n",
    "  \n",
    "- **Correlation**\n",
    "> ***[...]***\n",
    "\n",
    "- **Correlation Coefficient**\n",
    ">***[...]***"
   ]
  },
  {
   "cell_type": "markdown",
   "id": "aa458808",
   "metadata": {},
   "source": [
    "### Step 2 - Review Hypothesis Testing & P-Value"
   ]
  },
  {
   "cell_type": "code",
   "execution_count": 57,
   "id": "9ef16a28",
   "metadata": {},
   "outputs": [],
   "source": [
    "################################### TO DO #########################################\n",
    "####### FOLLOW PROJECT INSTRUCTIONS TO COMPLETE THIS STEP IN THE CELLS BELOW ######"
   ]
  },
  {
   "cell_type": "markdown",
   "id": "72372aa0",
   "metadata": {},
   "source": [
    "#### Fill in blanks with brief description of the following terms:\n",
    "\n",
    "- **Hypothesis**\n",
    "> ***[...]***\n",
    "\n",
    "- **Null Hypothesis**\n",
    "> ***[...]***\n",
    "\n",
    "- **P-Value**\n",
    "> ***[...]***"
   ]
  },
  {
   "cell_type": "markdown",
   "id": "70d87c77",
   "metadata": {},
   "source": [
    "### Step 3 - Use Pearsonr & Spearmanr To Answer Questions About Correlation and P-Values"
   ]
  },
  {
   "cell_type": "markdown",
   "id": "a8eb3063",
   "metadata": {},
   "source": [
    "<h3 style='color:red;'> First, load 'salary_numeric.csv' - where education has been re-expressed as numeric variables.</h3>"
   ]
  },
  {
   "cell_type": "code",
   "execution_count": 58,
   "id": "39f2c28a",
   "metadata": {},
   "outputs": [],
   "source": [
    "# load salary_numeric.csv into dataframe where education levels have been re-expressed as numeric"
   ]
  },
  {
   "cell_type": "code",
   "execution_count": 59,
   "id": "2687b718",
   "metadata": {},
   "outputs": [],
   "source": [
    "################################### TO DO #########################################\n",
    "####### FOLLOW PROJECT INSTRUCTIONS TO COMPLETE THIS STEP IN THE CELLS BELOW ######"
   ]
  },
  {
   "cell_type": "code",
   "execution_count": 60,
   "id": "e437288d",
   "metadata": {},
   "outputs": [],
   "source": [
    "# import pearson and spearmanr methods from scipy.stats library"
   ]
  },
  {
   "cell_type": "markdown",
   "id": "5b412a9b",
   "metadata": {},
   "source": [
    "### What is the correlation between salary and education?"
   ]
  },
  {
   "cell_type": "markdown",
   "id": "b5695c8a",
   "metadata": {},
   "source": [
    "#### Your Hypothesis = [...]"
   ]
  },
  {
   "cell_type": "code",
   "execution_count": 61,
   "id": "b92e526e",
   "metadata": {},
   "outputs": [],
   "source": [
    "# calculate correlation and pvalue of salary and education with spearmanr method"
   ]
  },
  {
   "cell_type": "markdown",
   "id": "e0b33fa8",
   "metadata": {},
   "source": [
    "[interpret result]"
   ]
  },
  {
   "cell_type": "markdown",
   "id": "0b1ab9f0",
   "metadata": {},
   "source": [
    "#### Are these results statistically significant? How do you know?"
   ]
  },
  {
   "cell_type": "markdown",
   "id": "6dbbbeac",
   "metadata": {},
   "source": [
    "[answer]"
   ]
  },
  {
   "cell_type": "markdown",
   "id": "a05c6a59",
   "metadata": {},
   "source": [
    "### What is the correlation between salary and age?"
   ]
  },
  {
   "cell_type": "markdown",
   "id": "bd65d66c",
   "metadata": {},
   "source": [
    "#### Your Hypothesis [...]"
   ]
  },
  {
   "cell_type": "code",
   "execution_count": 62,
   "id": "59cfb7d9",
   "metadata": {},
   "outputs": [],
   "source": [
    "# calculate correlation and pvalue of salary and age with pearsonr method"
   ]
  },
  {
   "cell_type": "markdown",
   "id": "6c37d272",
   "metadata": {},
   "source": [
    "[interpret result]"
   ]
  },
  {
   "cell_type": "markdown",
   "id": "9ddb031a",
   "metadata": {},
   "source": [
    "#### Are these results statistically significant? How do you know? "
   ]
  },
  {
   "cell_type": "markdown",
   "id": "4e0e1e67",
   "metadata": {},
   "source": [
    "[answer]"
   ]
  },
  {
   "cell_type": "markdown",
   "id": "4d0de42f",
   "metadata": {},
   "source": [
    "### What is the correlation between salary and industry experience? "
   ]
  },
  {
   "cell_type": "markdown",
   "id": "a8076452",
   "metadata": {},
   "source": [
    "#### Your Hypothesis = [...]"
   ]
  },
  {
   "cell_type": "code",
   "execution_count": 63,
   "id": "b594af02",
   "metadata": {},
   "outputs": [],
   "source": [
    "# calculate correlation and pvalue of salary and industry experience with pearsonr method"
   ]
  },
  {
   "cell_type": "markdown",
   "id": "1b3ee60a",
   "metadata": {},
   "source": [
    "[interpret result]"
   ]
  },
  {
   "cell_type": "markdown",
   "id": "bc438c97",
   "metadata": {},
   "source": [
    "#### Are these results statistically significant? How do you know?"
   ]
  },
  {
   "cell_type": "markdown",
   "id": "6414b406",
   "metadata": {},
   "source": [
    "[answer]"
   ]
  },
  {
   "cell_type": "markdown",
   "id": "42594762",
   "metadata": {},
   "source": [
    "### Step 4 - Report Findings"
   ]
  },
  {
   "cell_type": "code",
   "execution_count": 64,
   "id": "99864d47",
   "metadata": {},
   "outputs": [],
   "source": [
    "################################### TO DO #########################################\n",
    "####### FOLLOW PROJECT INSTRUCTIONS TO COMPLETE THIS STEP IN THE CELLS BELOW ######"
   ]
  },
  {
   "cell_type": "markdown",
   "id": "bc3d1db6",
   "metadata": {},
   "source": [
    "### What was the null hypothesis for the relationships between education and salary, age and salary, and industry experience and salary?"
   ]
  },
  {
   "cell_type": "markdown",
   "id": "1b0aeec2",
   "metadata": {},
   "source": [
    "[answer]"
   ]
  },
  {
   "cell_type": "markdown",
   "id": "ad7fe6fc",
   "metadata": {},
   "source": [
    "### Can you reject the null hypothesis for any of the relationships you explored above?"
   ]
  },
  {
   "cell_type": "markdown",
   "id": "388dc3b3",
   "metadata": {},
   "source": [
    "[answer]"
   ]
  },
  {
   "cell_type": "markdown",
   "id": "e584db19",
   "metadata": {},
   "source": [
    "## Part 5 - Multivariate Analysis"
   ]
  },
  {
   "cell_type": "markdown",
   "id": "13194851",
   "metadata": {},
   "source": [
    "### Step 1 - Review Types of Multivariate Analysis"
   ]
  },
  {
   "cell_type": "code",
   "execution_count": 65,
   "id": "3c0d78a3",
   "metadata": {},
   "outputs": [],
   "source": [
    "################################### TO DO #########################################\n",
    "####### FOLLOW PROJECT INSTRUCTIONS TO COMPLETE THIS STEP IN THE CELLS BELOW ######"
   ]
  },
  {
   "cell_type": "markdown",
   "id": "7546cd75",
   "metadata": {},
   "source": [
    "#### Fill in the blanks with a brief description of each plot type \n",
    "  \n",
    "- pairplots\n",
    "> [...]\n",
    "- paired scatter plots\n",
    "> [...]\n",
    "- correlation matrix\n",
    "> [...]\n",
    "- heatmap\n",
    "> [...]"
   ]
  },
  {
   "cell_type": "markdown",
   "id": "b661be1d",
   "metadata": {},
   "source": [
    "### Step 2 - Create Pairplots for Dataset"
   ]
  },
  {
   "cell_type": "code",
   "execution_count": 66,
   "id": "e7ee98ae",
   "metadata": {},
   "outputs": [],
   "source": [
    "################################### TO DO #########################################\n",
    "####### FOLLOW PROJECT INSTRUCTIONS TO COMPLETE THIS STEP IN THE CELLS BELOW ######"
   ]
  },
  {
   "cell_type": "markdown",
   "id": "ead32e5e",
   "metadata": {},
   "source": [
    "#### pairplot of whole dataframe"
   ]
  },
  {
   "cell_type": "code",
   "execution_count": 67,
   "id": "1aebe013",
   "metadata": {},
   "outputs": [],
   "source": [
    "# create pairplot of dataframe"
   ]
  },
  {
   "cell_type": "markdown",
   "id": "f7be1281",
   "metadata": {},
   "source": [
    "##### Insights:\n",
    "\n",
    "[fill in with your observations from the visualization]"
   ]
  },
  {
   "cell_type": "markdown",
   "id": "3bc4a804",
   "metadata": {},
   "source": [
    "### Step 3 - Create Other Multivariate Plots"
   ]
  },
  {
   "cell_type": "code",
   "execution_count": 68,
   "id": "4f9c1d0d",
   "metadata": {},
   "outputs": [],
   "source": [
    "################################### TO DO #########################################\n",
    "####### FOLLOW PROJECT INSTRUCTIONS TO COMPLETE THIS STEP IN THE CELLS BELOW ######"
   ]
  },
  {
   "cell_type": "markdown",
   "id": "75dde479",
   "metadata": {},
   "source": [
    "### Correlation matrix"
   ]
  },
  {
   "cell_type": "code",
   "execution_count": 69,
   "id": "01154098",
   "metadata": {},
   "outputs": [],
   "source": [
    "# use .corr() to create correlation matrix"
   ]
  },
  {
   "cell_type": "markdown",
   "id": "dc3253a8",
   "metadata": {},
   "source": [
    "### Heatmap of correlation matrix"
   ]
  },
  {
   "cell_type": "code",
   "execution_count": 70,
   "id": "45bd0d02",
   "metadata": {},
   "outputs": [],
   "source": [
    "# create heatmap visualization of correlation matrix"
   ]
  },
  {
   "cell_type": "markdown",
   "id": "fd541bc6",
   "metadata": {},
   "source": [
    "##### Insights:\n",
    "\n",
    "[fill in with your observations from the visualization]"
   ]
  },
  {
   "cell_type": "markdown",
   "id": "0cae87c2",
   "metadata": {},
   "source": [
    "#### Crosstab of average salary grouped by education and industry"
   ]
  },
  {
   "cell_type": "code",
   "execution_count": 71,
   "id": "4bdd8071",
   "metadata": {},
   "outputs": [],
   "source": [
    "# use pd.crosstab() to calculate mean salary in each industry grouped by education level"
   ]
  },
  {
   "cell_type": "markdown",
   "id": "e6521fe3",
   "metadata": {},
   "source": [
    "#### Heatmap of crosstab of average salary grouped by education and industry"
   ]
  },
  {
   "cell_type": "code",
   "execution_count": 72,
   "id": "7fd953cb",
   "metadata": {},
   "outputs": [],
   "source": [
    "# save above result to new variable"
   ]
  },
  {
   "cell_type": "code",
   "execution_count": 73,
   "id": "3ec99c42",
   "metadata": {},
   "outputs": [],
   "source": [
    "# create heatmap with annotated mean salary in each industry and education level"
   ]
  },
  {
   "cell_type": "markdown",
   "id": "1f4b8d07",
   "metadata": {},
   "source": [
    "##### Insights:\n",
    "\n",
    "[fill in with your observations from the visualization]"
   ]
  },
  {
   "cell_type": "markdown",
   "id": "5357875a",
   "metadata": {},
   "source": [
    "### Step 4 - Report Findings"
   ]
  },
  {
   "cell_type": "code",
   "execution_count": 74,
   "id": "65e1f49a",
   "metadata": {},
   "outputs": [],
   "source": [
    "################################### TO DO #########################################\n",
    "  \n",
    "####### FOLLOW PROJECT INSTRUCTIONS TO COMPLETE THIS STEP IN THE CELLS BELOW ######"
   ]
  },
  {
   "cell_type": "markdown",
   "id": "92917a33",
   "metadata": {},
   "source": [
    "###### Along the way throughout this project, you should have been taking notes on insights from your exploratory data analysis. Take some time in a markdown cell below to write a couple paragraphs summarizing any observations, insights, conclusions, or further questions you have based on the exploratory analysis you conducted this week. "
   ]
  },
  {
   "cell_type": "markdown",
   "id": "84b74615",
   "metadata": {},
   "source": [
    "[...]"
   ]
  },
  {
   "cell_type": "markdown",
   "id": "9272556f",
   "metadata": {},
   "source": [
    "### Step 5 - Submit Project"
   ]
  },
  {
   "cell_type": "markdown",
   "id": "4d42b2c2",
   "metadata": {},
   "source": [
    "###### Push to GitHub, record brief code review video, and share links with Tech Lead and SME. "
   ]
  }
 ],
 "metadata": {
  "kernelspec": {
   "display_name": "Python 3 (ipykernel)",
   "language": "python",
   "name": "python3"
  },
  "language_info": {
   "codemirror_mode": {
    "name": "ipython",
    "version": 3
   },
   "file_extension": ".py",
   "mimetype": "text/x-python",
   "name": "python",
   "nbconvert_exporter": "python",
   "pygments_lexer": "ipython3",
   "version": "3.9.13"
  }
 },
 "nbformat": 4,
 "nbformat_minor": 5
}
